{
 "cells": [
  {
   "cell_type": "code",
   "execution_count": 37,
   "metadata": {},
   "outputs": [
    {
     "data": {
      "text/html": [
       "<div>\n",
       "<style scoped>\n",
       "    .dataframe tbody tr th:only-of-type {\n",
       "        vertical-align: middle;\n",
       "    }\n",
       "\n",
       "    .dataframe tbody tr th {\n",
       "        vertical-align: top;\n",
       "    }\n",
       "\n",
       "    .dataframe thead th {\n",
       "        text-align: right;\n",
       "    }\n",
       "</style>\n",
       "<table border=\"1\" class=\"dataframe\">\n",
       "  <thead>\n",
       "    <tr style=\"text-align: right;\">\n",
       "      <th></th>\n",
       "      <th>place</th>\n",
       "      <th>participant</th>\n",
       "      <th>city</th>\n",
       "      <th>bib</th>\n",
       "      <th>finish_time</th>\n",
       "      <th>chip_time</th>\n",
       "    </tr>\n",
       "  </thead>\n",
       "  <tbody>\n",
       "    <tr>\n",
       "      <th>0</th>\n",
       "      <td>NaN</td>\n",
       "      <td>Зикрилло Маматкулов</td>\n",
       "      <td>Ташкент</td>\n",
       "      <td>1103</td>\n",
       "      <td>02:28:34</td>\n",
       "      <td>02:28:31</td>\n",
       "    </tr>\n",
       "    <tr>\n",
       "      <th>1</th>\n",
       "      <td>NaN</td>\n",
       "      <td>Амир Байтуканов</td>\n",
       "      <td>Усть-каменогорск</td>\n",
       "      <td>1202</td>\n",
       "      <td>02:34:49</td>\n",
       "      <td>02:34:49</td>\n",
       "    </tr>\n",
       "    <tr>\n",
       "      <th>2</th>\n",
       "      <td>NaN</td>\n",
       "      <td>Алексей Ширшов</td>\n",
       "      <td>Оренбург</td>\n",
       "      <td>491</td>\n",
       "      <td>02:34:57</td>\n",
       "      <td>02:34:57</td>\n",
       "    </tr>\n",
       "    <tr>\n",
       "      <th>3</th>\n",
       "      <td>NaN</td>\n",
       "      <td>Николай Григоров</td>\n",
       "      <td>Барнаул</td>\n",
       "      <td>492</td>\n",
       "      <td>02:36:51</td>\n",
       "      <td>02:36:51</td>\n",
       "    </tr>\n",
       "    <tr>\n",
       "      <th>4</th>\n",
       "      <td>NaN</td>\n",
       "      <td>Ержан Джанарстанов</td>\n",
       "      <td>Алматы</td>\n",
       "      <td>768</td>\n",
       "      <td>02:38:59</td>\n",
       "      <td>02:38:59</td>\n",
       "    </tr>\n",
       "  </tbody>\n",
       "</table>\n",
       "</div>"
      ],
      "text/plain": [
       "   place          participant              city   bib finish_time chip_time\n",
       "0    NaN  Зикрилло Маматкулов           Ташкент  1103    02:28:34  02:28:31\n",
       "1    NaN      Амир Байтуканов  Усть-каменогорск  1202    02:34:49  02:34:49\n",
       "2    NaN       Алексей Ширшов          Оренбург   491    02:34:57  02:34:57\n",
       "3    NaN     Николай Григоров           Барнаул   492    02:36:51  02:36:51\n",
       "4    NaN   Ержан Джанарстанов            Алматы   768    02:38:59  02:38:59"
      ]
     },
     "execution_count": 37,
     "metadata": {},
     "output_type": "execute_result"
    }
   ],
   "source": [
    "import pandas as pd\n",
    "data = pd.read_csv(\"marathon2019.csv\")\n",
    "data.head()"
   ]
  },
  {
   "cell_type": "code",
   "execution_count": 38,
   "metadata": {},
   "outputs": [],
   "source": [
    "#del data['place']"
   ]
  },
  {
   "cell_type": "code",
   "execution_count": null,
   "metadata": {},
   "outputs": [],
   "source": []
  },
  {
   "cell_type": "code",
   "execution_count": 39,
   "metadata": {},
   "outputs": [
    {
     "name": "stdout",
     "output_type": "stream",
     "text": [
      "<class 'pandas.core.frame.DataFrame'>\n",
      "RangeIndex: 1327 entries, 0 to 1326\n",
      "Data columns (total 6 columns):\n",
      "place          0 non-null float64\n",
      "participant    1327 non-null object\n",
      "city           1279 non-null object\n",
      "bib            1327 non-null int64\n",
      "finish_time    1327 non-null object\n",
      "chip_time      1327 non-null object\n",
      "dtypes: float64(1), int64(1), object(4)\n",
      "memory usage: 62.3+ KB\n"
     ]
    }
   ],
   "source": [
    "data.info()"
   ]
  },
  {
   "cell_type": "code",
   "execution_count": 40,
   "metadata": {},
   "outputs": [],
   "source": [
    "#data['city'].unique().tolist()"
   ]
  },
  {
   "cell_type": "code",
   "execution_count": 41,
   "metadata": {},
   "outputs": [],
   "source": [
    "#len(data['city'].unique().tolist())"
   ]
  },
  {
   "cell_type": "code",
   "execution_count": 42,
   "metadata": {},
   "outputs": [],
   "source": [
    "data = data[data.chip_time != '--:--:--']"
   ]
  },
  {
   "cell_type": "code",
   "execution_count": 43,
   "metadata": {},
   "outputs": [],
   "source": [
    "time_list = data['chip_time'].tolist()\n",
    "\n",
    "time_mins = []\n",
    "for i in time_list:\n",
    "    h, m, s = i.split(':')\n",
    "    math = (int(h) * 3600 + int(m) * 60 + int(s))/3600\n",
    "    time_mins.append(math)\n",
    "\n",
    "#print(time_mins)"
   ]
  },
  {
   "cell_type": "code",
   "execution_count": 44,
   "metadata": {},
   "outputs": [
    {
     "data": {
      "text/html": [
       "<div>\n",
       "<style scoped>\n",
       "    .dataframe tbody tr th:only-of-type {\n",
       "        vertical-align: middle;\n",
       "    }\n",
       "\n",
       "    .dataframe tbody tr th {\n",
       "        vertical-align: top;\n",
       "    }\n",
       "\n",
       "    .dataframe thead th {\n",
       "        text-align: right;\n",
       "    }\n",
       "</style>\n",
       "<table border=\"1\" class=\"dataframe\">\n",
       "  <thead>\n",
       "    <tr style=\"text-align: right;\">\n",
       "      <th></th>\n",
       "      <th>place</th>\n",
       "      <th>participant</th>\n",
       "      <th>city</th>\n",
       "      <th>bib</th>\n",
       "      <th>finish_time</th>\n",
       "      <th>chip_time</th>\n",
       "      <th>Runner_hours</th>\n",
       "    </tr>\n",
       "  </thead>\n",
       "  <tbody>\n",
       "    <tr>\n",
       "      <th>0</th>\n",
       "      <td>NaN</td>\n",
       "      <td>Зикрилло Маматкулов</td>\n",
       "      <td>Ташкент</td>\n",
       "      <td>1103</td>\n",
       "      <td>02:28:34</td>\n",
       "      <td>02:28:31</td>\n",
       "      <td>2.475278</td>\n",
       "    </tr>\n",
       "    <tr>\n",
       "      <th>1</th>\n",
       "      <td>NaN</td>\n",
       "      <td>Амир Байтуканов</td>\n",
       "      <td>Усть-каменогорск</td>\n",
       "      <td>1202</td>\n",
       "      <td>02:34:49</td>\n",
       "      <td>02:34:49</td>\n",
       "      <td>2.580278</td>\n",
       "    </tr>\n",
       "    <tr>\n",
       "      <th>2</th>\n",
       "      <td>NaN</td>\n",
       "      <td>Алексей Ширшов</td>\n",
       "      <td>Оренбург</td>\n",
       "      <td>491</td>\n",
       "      <td>02:34:57</td>\n",
       "      <td>02:34:57</td>\n",
       "      <td>2.582500</td>\n",
       "    </tr>\n",
       "    <tr>\n",
       "      <th>3</th>\n",
       "      <td>NaN</td>\n",
       "      <td>Николай Григоров</td>\n",
       "      <td>Барнаул</td>\n",
       "      <td>492</td>\n",
       "      <td>02:36:51</td>\n",
       "      <td>02:36:51</td>\n",
       "      <td>2.614167</td>\n",
       "    </tr>\n",
       "    <tr>\n",
       "      <th>4</th>\n",
       "      <td>NaN</td>\n",
       "      <td>Ержан Джанарстанов</td>\n",
       "      <td>Алматы</td>\n",
       "      <td>768</td>\n",
       "      <td>02:38:59</td>\n",
       "      <td>02:38:59</td>\n",
       "      <td>2.649722</td>\n",
       "    </tr>\n",
       "  </tbody>\n",
       "</table>\n",
       "</div>"
      ],
      "text/plain": [
       "   place          participant              city   bib finish_time chip_time  \\\n",
       "0    NaN  Зикрилло Маматкулов           Ташкент  1103    02:28:34  02:28:31   \n",
       "1    NaN      Амир Байтуканов  Усть-каменогорск  1202    02:34:49  02:34:49   \n",
       "2    NaN       Алексей Ширшов          Оренбург   491    02:34:57  02:34:57   \n",
       "3    NaN     Николай Григоров           Барнаул   492    02:36:51  02:36:51   \n",
       "4    NaN   Ержан Джанарстанов            Алматы   768    02:38:59  02:38:59   \n",
       "\n",
       "   Runner_hours  \n",
       "0      2.475278  \n",
       "1      2.580278  \n",
       "2      2.582500  \n",
       "3      2.614167  \n",
       "4      2.649722  "
      ]
     },
     "execution_count": 44,
     "metadata": {},
     "output_type": "execute_result"
    }
   ],
   "source": [
    "data['Runner_hours'] = time_mins\n",
    "data.head()"
   ]
  },
  {
   "cell_type": "code",
   "execution_count": 45,
   "metadata": {},
   "outputs": [
    {
     "data": {
      "text/plain": [
       "count    1102.000000\n",
       "mean        4.410630\n",
       "std         0.903428\n",
       "min         0.263333\n",
       "25%         3.825278\n",
       "50%         4.427917\n",
       "75%         5.047569\n",
       "max         6.111944\n",
       "Name: Runner_hours, dtype: float64"
      ]
     },
     "execution_count": 45,
     "metadata": {},
     "output_type": "execute_result"
    }
   ],
   "source": [
    "data['Runner_hours'].describe()"
   ]
  },
  {
   "cell_type": "code",
   "execution_count": 46,
   "metadata": {},
   "outputs": [
    {
     "data": {
      "text/html": [
       "<div>\n",
       "<style scoped>\n",
       "    .dataframe tbody tr th:only-of-type {\n",
       "        vertical-align: middle;\n",
       "    }\n",
       "\n",
       "    .dataframe tbody tr th {\n",
       "        vertical-align: top;\n",
       "    }\n",
       "\n",
       "    .dataframe thead th {\n",
       "        text-align: right;\n",
       "    }\n",
       "</style>\n",
       "<table border=\"1\" class=\"dataframe\">\n",
       "  <thead>\n",
       "    <tr style=\"text-align: right;\">\n",
       "      <th></th>\n",
       "      <th>place</th>\n",
       "      <th>participant</th>\n",
       "      <th>city</th>\n",
       "      <th>bib</th>\n",
       "      <th>finish_time</th>\n",
       "      <th>chip_time</th>\n",
       "      <th>Runner_hours</th>\n",
       "    </tr>\n",
       "  </thead>\n",
       "  <tbody>\n",
       "  </tbody>\n",
       "</table>\n",
       "</div>"
      ],
      "text/plain": [
       "Empty DataFrame\n",
       "Columns: [place, participant, city, bib, finish_time, chip_time, Runner_hours]\n",
       "Index: []"
      ]
     },
     "execution_count": 46,
     "metadata": {},
     "output_type": "execute_result"
    }
   ],
   "source": [
    "data[data.Runner_hours == 0.263333]"
   ]
  },
  {
   "cell_type": "code",
   "execution_count": 47,
   "metadata": {},
   "outputs": [
    {
     "data": {
      "text/plain": [
       "0.2633333333333333"
      ]
     },
     "execution_count": 47,
     "metadata": {},
     "output_type": "execute_result"
    }
   ],
   "source": [
    "data['Runner_hours'].min()"
   ]
  },
  {
   "cell_type": "code",
   "execution_count": 48,
   "metadata": {},
   "outputs": [
    {
     "data": {
      "text/plain": [
       "place                       NaN\n",
       "participant     ALIBEK KERTAYEV\n",
       "bib                           2\n",
       "finish_time            00:15:48\n",
       "chip_time              00:15:48\n",
       "Runner_hours           0.263333\n",
       "dtype: object"
      ]
     },
     "execution_count": 48,
     "metadata": {},
     "output_type": "execute_result"
    }
   ],
   "source": [
    "data.min()"
   ]
  },
  {
   "cell_type": "code",
   "execution_count": 49,
   "metadata": {},
   "outputs": [],
   "source": [
    "data = data[data.chip_time != '00:15:48']"
   ]
  },
  {
   "cell_type": "code",
   "execution_count": 50,
   "metadata": {},
   "outputs": [
    {
     "data": {
      "text/html": [
       "<div>\n",
       "<style scoped>\n",
       "    .dataframe tbody tr th:only-of-type {\n",
       "        vertical-align: middle;\n",
       "    }\n",
       "\n",
       "    .dataframe tbody tr th {\n",
       "        vertical-align: top;\n",
       "    }\n",
       "\n",
       "    .dataframe thead th {\n",
       "        text-align: right;\n",
       "    }\n",
       "</style>\n",
       "<table border=\"1\" class=\"dataframe\">\n",
       "  <thead>\n",
       "    <tr style=\"text-align: right;\">\n",
       "      <th></th>\n",
       "      <th>place</th>\n",
       "      <th>participant</th>\n",
       "      <th>city</th>\n",
       "      <th>bib</th>\n",
       "      <th>finish_time</th>\n",
       "      <th>chip_time</th>\n",
       "      <th>Runner_hours</th>\n",
       "    </tr>\n",
       "  </thead>\n",
       "  <tbody>\n",
       "    <tr>\n",
       "      <th>0</th>\n",
       "      <td>NaN</td>\n",
       "      <td>Зикрилло Маматкулов</td>\n",
       "      <td>Ташкент</td>\n",
       "      <td>1103</td>\n",
       "      <td>02:28:34</td>\n",
       "      <td>02:28:31</td>\n",
       "      <td>2.475278</td>\n",
       "    </tr>\n",
       "    <tr>\n",
       "      <th>1</th>\n",
       "      <td>NaN</td>\n",
       "      <td>Амир Байтуканов</td>\n",
       "      <td>Усть-каменогорск</td>\n",
       "      <td>1202</td>\n",
       "      <td>02:34:49</td>\n",
       "      <td>02:34:49</td>\n",
       "      <td>2.580278</td>\n",
       "    </tr>\n",
       "    <tr>\n",
       "      <th>2</th>\n",
       "      <td>NaN</td>\n",
       "      <td>Алексей Ширшов</td>\n",
       "      <td>Оренбург</td>\n",
       "      <td>491</td>\n",
       "      <td>02:34:57</td>\n",
       "      <td>02:34:57</td>\n",
       "      <td>2.582500</td>\n",
       "    </tr>\n",
       "    <tr>\n",
       "      <th>3</th>\n",
       "      <td>NaN</td>\n",
       "      <td>Николай Григоров</td>\n",
       "      <td>Барнаул</td>\n",
       "      <td>492</td>\n",
       "      <td>02:36:51</td>\n",
       "      <td>02:36:51</td>\n",
       "      <td>2.614167</td>\n",
       "    </tr>\n",
       "    <tr>\n",
       "      <th>4</th>\n",
       "      <td>NaN</td>\n",
       "      <td>Ержан Джанарстанов</td>\n",
       "      <td>Алматы</td>\n",
       "      <td>768</td>\n",
       "      <td>02:38:59</td>\n",
       "      <td>02:38:59</td>\n",
       "      <td>2.649722</td>\n",
       "    </tr>\n",
       "  </tbody>\n",
       "</table>\n",
       "</div>"
      ],
      "text/plain": [
       "   place          participant              city   bib finish_time chip_time  \\\n",
       "0    NaN  Зикрилло Маматкулов           Ташкент  1103    02:28:34  02:28:31   \n",
       "1    NaN      Амир Байтуканов  Усть-каменогорск  1202    02:34:49  02:34:49   \n",
       "2    NaN       Алексей Ширшов          Оренбург   491    02:34:57  02:34:57   \n",
       "3    NaN     Николай Григоров           Барнаул   492    02:36:51  02:36:51   \n",
       "4    NaN   Ержан Джанарстанов            Алматы   768    02:38:59  02:38:59   \n",
       "\n",
       "   Runner_hours  \n",
       "0      2.475278  \n",
       "1      2.580278  \n",
       "2      2.582500  \n",
       "3      2.614167  \n",
       "4      2.649722  "
      ]
     },
     "execution_count": 50,
     "metadata": {},
     "output_type": "execute_result"
    }
   ],
   "source": [
    "data = data[data.Runner_hours > 2.0]\n",
    "data.head()"
   ]
  },
  {
   "cell_type": "code",
   "execution_count": 51,
   "metadata": {},
   "outputs": [
    {
     "data": {
      "text/plain": [
       "count    1091.000000\n",
       "mean        4.440514\n",
       "std         0.855353\n",
       "min         2.070556\n",
       "25%         3.846944\n",
       "50%         4.440556\n",
       "75%         5.052222\n",
       "max         6.111944\n",
       "Name: Runner_hours, dtype: float64"
      ]
     },
     "execution_count": 51,
     "metadata": {},
     "output_type": "execute_result"
    }
   ],
   "source": [
    "data['Runner_hours'].describe()"
   ]
  },
  {
   "cell_type": "code",
   "execution_count": 52,
   "metadata": {},
   "outputs": [
    {
     "data": {
      "text/plain": [
       "place                       NaN\n",
       "participant     ALIBEK KERTAYEV\n",
       "bib                           2\n",
       "finish_time            02:04:58\n",
       "chip_time              02:04:14\n",
       "Runner_hours            2.07056\n",
       "dtype: object"
      ]
     },
     "execution_count": 52,
     "metadata": {},
     "output_type": "execute_result"
    }
   ],
   "source": [
    "data.min()"
   ]
  },
  {
   "cell_type": "code",
   "execution_count": 53,
   "metadata": {},
   "outputs": [
    {
     "data": {
      "text/html": [
       "<div>\n",
       "<style scoped>\n",
       "    .dataframe tbody tr th:only-of-type {\n",
       "        vertical-align: middle;\n",
       "    }\n",
       "\n",
       "    .dataframe tbody tr th {\n",
       "        vertical-align: top;\n",
       "    }\n",
       "\n",
       "    .dataframe thead th {\n",
       "        text-align: right;\n",
       "    }\n",
       "</style>\n",
       "<table border=\"1\" class=\"dataframe\">\n",
       "  <thead>\n",
       "    <tr style=\"text-align: right;\">\n",
       "      <th></th>\n",
       "      <th>place</th>\n",
       "      <th>participant</th>\n",
       "      <th>city</th>\n",
       "      <th>bib</th>\n",
       "      <th>finish_time</th>\n",
       "      <th>chip_time</th>\n",
       "      <th>Runner_hours</th>\n",
       "    </tr>\n",
       "  </thead>\n",
       "  <tbody>\n",
       "    <tr>\n",
       "      <th>1083</th>\n",
       "      <td>NaN</td>\n",
       "      <td>Гайдар Утешев</td>\n",
       "      <td>Алматы</td>\n",
       "      <td>996</td>\n",
       "      <td>02:04:58</td>\n",
       "      <td>02:04:14</td>\n",
       "      <td>2.070556</td>\n",
       "    </tr>\n",
       "  </tbody>\n",
       "</table>\n",
       "</div>"
      ],
      "text/plain": [
       "      place    participant    city  bib finish_time chip_time  Runner_hours\n",
       "1083    NaN  Гайдар Утешев  Алматы  996    02:04:58  02:04:14      2.070556"
      ]
     },
     "execution_count": 53,
     "metadata": {},
     "output_type": "execute_result"
    }
   ],
   "source": [
    "data[data.chip_time == '02:04:14']"
   ]
  },
  {
   "cell_type": "code",
   "execution_count": null,
   "metadata": {},
   "outputs": [],
   "source": []
  },
  {
   "cell_type": "code",
   "execution_count": null,
   "metadata": {},
   "outputs": [],
   "source": []
  }
 ],
 "metadata": {
  "kernelspec": {
   "display_name": "Python 3",
   "language": "python",
   "name": "python3"
  },
  "language_info": {
   "codemirror_mode": {
    "name": "ipython",
    "version": 3
   },
   "file_extension": ".py",
   "mimetype": "text/x-python",
   "name": "python",
   "nbconvert_exporter": "python",
   "pygments_lexer": "ipython3",
   "version": "3.7.3"
  }
 },
 "nbformat": 4,
 "nbformat_minor": 2
}
